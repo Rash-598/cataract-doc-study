{
 "cells": [
  {
   "cell_type": "code",
   "execution_count": 1,
   "id": "74763e48",
   "metadata": {},
   "outputs": [],
   "source": [
    "import json\n",
    "\n",
    "docs_path = \"/home/rash598/doctor_sys_3/cataract-doc-study/cataract_doc_study/doctors_and_questions/docs.json\"\n",
    "questions_path = \"/home/rash598/doctor_sys_3/cataract-doc-study/cataract_doc_study/doctors_and_questions/questions.json\"\n",
    "docs_questions_set_path = \"/home/rash598/doctor_sys_3/cataract-doc-study/cataract_doc_study/doctors_and_questions/doctor_question_set1.json\""
   ]
  },
  {
   "cell_type": "code",
   "execution_count": 2,
   "id": "6fe471c2",
   "metadata": {},
   "outputs": [],
   "source": [
    "with open(docs_path, 'r') as f:\n",
    "    docs = json.load(f)\n",
    "with open(questions_path, 'r') as f:\n",
    "    questions = json.load(f)\n",
    "with open(docs_questions_set_path, 'r') as f:\n",
    "    doctors_question_set_json = json.load(f)"
   ]
  },
  {
   "cell_type": "code",
   "execution_count": 3,
   "id": "8afc7feb",
   "metadata": {},
   "outputs": [
    {
     "name": "stderr",
     "output_type": "stream",
     "text": [
      "/home/rash598/doctor_sys_3/cataract-doc-study/.venv/lib/python3.10/site-packages/motor/core.py:171: UserWarning: You appear to be connected to a CosmosDB cluster. For more information regarding feature compatibility and support please visit https://www.mongodb.com/supportability/cosmosdb\n",
      "  delegate = self.__delegate_class__(*args, **kwargs)\n"
     ]
    },
    {
     "data": {
      "text/plain": [
       "(['D1', 'D2', 'D3', 'D4', 'D5', 'D6', 'D7', 'D8', 'D9', 'Prag', 'Moh', 'Rah'],\n",
       " None)"
      ]
     },
     "execution_count": 3,
     "metadata": {},
     "output_type": "execute_result"
    }
   ],
   "source": [
    "from cataract_doc_study.dependency_setup import user_client\n",
    "\n",
    "documents = []\n",
    "ids = await user_client.afetch_ids()\n",
    "for doctor_question_set in doctors_question_set_json:\n",
    "    if doctor_question_set[\"user_id\"] in ids:\n",
    "        continue  # Skip if the user already exists\n",
    "    question_set = {\n",
    "        \"_id\": doctor_question_set[\"user_id\"],\n",
    "        \"user_id\": doctor_question_set[\"user_id\"],\n",
    "        \"section_order\": doctor_question_set[\"section_order\"],\n",
    "        \"questions_list\": doctor_question_set[\"questions_list\"],\n",
    "        \"progress_id\": doctor_question_set[\"progress_id\"],\n",
    "    }\n",
    "    documents.append(question_set)\n",
    "await user_client.ainsert(documents)"
   ]
  },
  {
   "cell_type": "code",
   "execution_count": 17,
   "id": "11dcf0e4",
   "metadata": {},
   "outputs": [],
   "source": [
    "await user_client.adelete_collection()"
   ]
  },
  {
   "cell_type": "code",
   "execution_count": null,
   "id": "254ea689",
   "metadata": {},
   "outputs": [],
   "source": []
  }
 ],
 "metadata": {
  "kernelspec": {
   "display_name": "Python 3 (ipykernel)",
   "language": "python",
   "name": "python3"
  },
  "language_info": {
   "codemirror_mode": {
    "name": "ipython",
    "version": 3
   },
   "file_extension": ".py",
   "mimetype": "text/x-python",
   "name": "python",
   "nbconvert_exporter": "python",
   "pygments_lexer": "ipython3",
   "version": "3.10.12"
  }
 },
 "nbformat": 4,
 "nbformat_minor": 5
}
